{
 "cells": [
  {
   "cell_type": "code",
   "execution_count": 4,
   "metadata": {},
   "outputs": [],
   "source": [
    "import duckdb\n",
    "\n",
    "# 1. Connect (creates argo.db if it doesn’t exist)\n",
    "con = duckdb.connect(\"argo.db\")\n",
    "year = 2022"
   ]
  },
  {
   "cell_type": "code",
   "execution_count": 2,
   "metadata": {},
   "outputs": [
    {
     "data": {
      "application/vnd.jupyter.widget-view+json": {
       "model_id": "2e3bfd4b0771435b9a53c3030f276cce",
       "version_major": 2,
       "version_minor": 0
      },
      "text/plain": [
       "FloatProgress(value=0.0, layout=Layout(width='auto'), style=ProgressStyle(bar_color='black'))"
      ]
     },
     "metadata": {},
     "output_type": "display_data"
    },
    {
     "data": {
      "text/plain": [
       "<duckdb.duckdb.DuckDBPyConnection at 0x87aa5f0>"
      ]
     },
     "execution_count": 2,
     "metadata": {},
     "output_type": "execute_result"
    }
   ],
   "source": [
    "con.execute(f\"\"\"\n",
    "    CREATE TABLE IF NOT EXISTS argo{year}_raw AS\n",
    "    SELECT *\n",
    "    FROM read_csv(\n",
    "        'data/ArgoFloats{year}.csv',\n",
    "        header = true,\n",
    "        skip = 1,\n",
    "        nullstr = ' ',\n",
    "        columns = {{\n",
    "            'platform_number': 'VARCHAR',\n",
    "            'time': 'VARCHAR',\n",
    "            'latitude': 'VARCHAR',\n",
    "            'longitude': 'VARCHAR',\n",
    "            'pres': 'VARCHAR',\n",
    "            'pres_qc': 'VARCHAR',\n",
    "            'temp': 'VARCHAR',\n",
    "            'temp_qc': 'VARCHAR',\n",
    "            'psal': 'VARCHAR',\n",
    "            'psal_qc': 'VARCHAR'\n",
    "        }}\n",
    "    )\n",
    "\"\"\")"
   ]
  },
  {
   "cell_type": "code",
   "execution_count": 3,
   "metadata": {},
   "outputs": [
    {
     "data": {
      "application/vnd.jupyter.widget-view+json": {
       "model_id": "a32479a485a1463b805f7b4084a0e798",
       "version_major": 2,
       "version_minor": 0
      },
      "text/plain": [
       "FloatProgress(value=0.0, layout=Layout(width='auto'), style=ProgressStyle(bar_color='black'))"
      ]
     },
     "metadata": {},
     "output_type": "display_data"
    },
    {
     "data": {
      "text/plain": [
       "<duckdb.duckdb.DuckDBPyConnection at 0x87aa5f0>"
      ]
     },
     "execution_count": 3,
     "metadata": {},
     "output_type": "execute_result"
    }
   ],
   "source": [
    "con.execute(f\"\"\"\n",
    "CREATE OR REPLACE TABLE argo{year}_slim AS\n",
    "SELECT\n",
    "    CAST(platform_number AS INT) AS platform_id,\n",
    "    CAST(time AS TIMESTAMPTZ) AS date,\n",
    "    CAST(latitude AS DOUBLE) AS lat,\n",
    "    CAST(longitude AS DOUBLE) AS lon,\n",
    "    CAST(pres AS DOUBLE) AS depth_m,\n",
    "    CAST(temp AS DOUBLE) AS temp_c,\n",
    "    CAST(psal AS DOUBLE) AS sal_psu,\n",
    "\n",
    "    -- Only keep digits 09, else NULL\n",
    "    CAST(NULLIF(regexp_extract(pres_qc, '^[0-9]$', 0), '') AS TINYINT) AS pres_qc,\n",
    "    CAST(NULLIF(regexp_extract(temp_qc, '^[0-9]$', 0), '') AS TINYINT) AS temp_qc,\n",
    "    CAST(NULLIF(regexp_extract(psal_qc, '^[0-9]$', 0), '') AS TINYINT) AS psal_qc\n",
    "\n",
    "FROM argo{year}_raw;\n",
    "\n",
    "\"\"\")\n"
   ]
  },
  {
   "cell_type": "code",
   "execution_count": 4,
   "metadata": {},
   "outputs": [
    {
     "data": {
      "text/plain": [
       "<duckdb.duckdb.DuckDBPyConnection at 0x87aa5f0>"
      ]
     },
     "execution_count": 4,
     "metadata": {},
     "output_type": "execute_result"
    }
   ],
   "source": [
    "con.execute(f\"\"\"delete from argo{year}_slim where \n",
    "lat NOT BETWEEN -90 AND 90\n",
    "OR lon NOT BETWEEN -180 AND 180;\"\"\")"
   ]
  },
  {
   "cell_type": "code",
   "execution_count": 5,
   "metadata": {},
   "outputs": [
    {
     "data": {
      "text/plain": [
       "<duckdb.duckdb.DuckDBPyConnection at 0x87aa5f0>"
      ]
     },
     "execution_count": 5,
     "metadata": {},
     "output_type": "execute_result"
    }
   ],
   "source": [
    "con.execute(\"INSTALL spatial; LOAD spatial;\")"
   ]
  },
  {
   "cell_type": "code",
   "execution_count": 6,
   "metadata": {},
   "outputs": [
    {
     "data": {
      "application/vnd.jupyter.widget-view+json": {
       "model_id": "a7e449da6b934c958d691a6fcf559689",
       "version_major": 2,
       "version_minor": 0
      },
      "text/plain": [
       "FloatProgress(value=0.0, layout=Layout(width='auto'), style=ProgressStyle(bar_color='black'))"
      ]
     },
     "metadata": {},
     "output_type": "display_data"
    },
    {
     "data": {
      "text/plain": [
       "<duckdb.duckdb.DuckDBPyConnection at 0x87aa5f0>"
      ]
     },
     "execution_count": 6,
     "metadata": {},
     "output_type": "execute_result"
    }
   ],
   "source": [
    "con.execute(f\"\"\"      \n",
    "CREATE TABLE argo{year}_positions AS\n",
    "SELECT DISTINCT\n",
    "    lat,\n",
    "    lon,\n",
    "    ST_Point(lon, lat) AS geom\n",
    "FROM\n",
    "    argo{year}_slim;\"\"\")"
   ]
  },
  {
   "cell_type": "code",
   "execution_count": 7,
   "metadata": {},
   "outputs": [],
   "source": [
    "# con.execute(f\"\"\"\n",
    "# LOAD spatial;\n",
    "# CREATE TABLE IF NOT EXISTS world_seas_iho_v3 AS\n",
    "# SELECT *\n",
    "# FROM ST_Read('World_Seas_IHO_v3/World_Seas_IHO_v3.shp');\"\"\")"
   ]
  },
  {
   "cell_type": "code",
   "execution_count": 8,
   "metadata": {},
   "outputs": [],
   "source": [
    "# con.execute(f\"\"\"\n",
    "# ALTER TABLE world_seas_iho_v3\n",
    "# ADD COLUMN geom_simple GEOMETRY;\n",
    "\n",
    "# UPDATE world_seas_iho_v3\n",
    "# SET geom_simple = ST_Simplify(geom, 0.01);\"\"\")"
   ]
  },
  {
   "cell_type": "code",
   "execution_count": 9,
   "metadata": {},
   "outputs": [
    {
     "data": {
      "text/plain": [
       "<duckdb.duckdb.DuckDBPyConnection at 0x87aa5f0>"
      ]
     },
     "execution_count": 9,
     "metadata": {},
     "output_type": "execute_result"
    }
   ],
   "source": [
    "con.execute(f\"\"\"\n",
    "CREATE INDEX IF NOT EXISTS idx_world_seas_geom ON world_seas_iho_v3 USING rtree(geom_simple);\n",
    "CREATE INDEX IF NOT EXISTS idx_positions_geom ON argo{year}_positions USING rtree(geom);\n",
    "ANALYZE world_seas_iho_v3;\n",
    "ANALYZE argo{year}_positions;\n",
    "\"\"\")"
   ]
  },
  {
   "cell_type": "code",
   "execution_count": 10,
   "metadata": {},
   "outputs": [
    {
     "data": {
      "application/vnd.jupyter.widget-view+json": {
       "model_id": "4fe85dcd5b5d4ec0ab6093cf64a7137f",
       "version_major": 2,
       "version_minor": 0
      },
      "text/plain": [
       "FloatProgress(value=0.0, layout=Layout(width='auto'), style=ProgressStyle(bar_color='black'))"
      ]
     },
     "metadata": {},
     "output_type": "display_data"
    },
    {
     "data": {
      "text/plain": [
       "<duckdb.duckdb.DuckDBPyConnection at 0x87aa5f0>"
      ]
     },
     "execution_count": 10,
     "metadata": {},
     "output_type": "execute_result"
    }
   ],
   "source": [
    "con.execute(f\"\"\"\n",
    "-- First, assign regions where there is an intersection\n",
    "CREATE TABLE positions_with_region AS\n",
    "SELECT \n",
    "    p.lat,\n",
    "    p.lon,\n",
    "    o.name AS region_name,\n",
    "    p.geom\n",
    "FROM argo{year}_positions p\n",
    "LEFT JOIN world_seas_iho_v3 o\n",
    "    ON ST_Intersects(p.geom, o.geom_simple);\n",
    "\"\"\")"
   ]
  },
  {
   "cell_type": "code",
   "execution_count": 11,
   "metadata": {},
   "outputs": [
    {
     "data": {
      "text/plain": [
       "<duckdb.duckdb.DuckDBPyConnection at 0x87aa5f0>"
      ]
     },
     "execution_count": 11,
     "metadata": {},
     "output_type": "execute_result"
    }
   ],
   "source": [
    "con.execute(f\"\"\"\n",
    "-- Next, find the nearest region for points with NULL region_name\n",
    "CREATE TABLE nearest_region AS\n",
    "SELECT \n",
    "    p.lat,\n",
    "    p.lon,\n",
    "    s.name AS region_name\n",
    "FROM positions_with_region p\n",
    "JOIN world_seas_iho_v3 s\n",
    "    ON p.region_name IS NULL\n",
    "QUALIFY ROW_NUMBER() OVER (PARTITION BY p.lat, p.lon ORDER BY ST_Distance(p.geom, s.geom_simple)) = 1;\n",
    "\"\"\")"
   ]
  },
  {
   "cell_type": "code",
   "execution_count": 12,
   "metadata": {},
   "outputs": [
    {
     "data": {
      "text/plain": [
       "<duckdb.duckdb.DuckDBPyConnection at 0x87aa5f0>"
      ]
     },
     "execution_count": 12,
     "metadata": {},
     "output_type": "execute_result"
    }
   ],
   "source": [
    "con.execute(f\"\"\"\n",
    "-- Finally, combine the tables\n",
    "CREATE TABLE argo{year}_positions_region AS\n",
    "SELECT lat, lon, region_name \n",
    "FROM positions_with_region\n",
    "WHERE region_name IS NOT NULL\n",
    "\n",
    "UNION ALL\n",
    "\n",
    "SELECT lat, lon, region_name \n",
    "FROM nearest_region\n",
    "WHERE region_name IS NOT NULL;\n",
    "\"\"\")"
   ]
  },
  {
   "cell_type": "code",
   "execution_count": 13,
   "metadata": {},
   "outputs": [
    {
     "data": {
      "text/html": [
       "<div>\n",
       "<style scoped>\n",
       "    .dataframe tbody tr th:only-of-type {\n",
       "        vertical-align: middle;\n",
       "    }\n",
       "\n",
       "    .dataframe tbody tr th {\n",
       "        vertical-align: top;\n",
       "    }\n",
       "\n",
       "    .dataframe thead th {\n",
       "        text-align: right;\n",
       "    }\n",
       "</style>\n",
       "<table border=\"1\" class=\"dataframe\">\n",
       "  <thead>\n",
       "    <tr style=\"text-align: right;\">\n",
       "      <th></th>\n",
       "      <th>Success</th>\n",
       "    </tr>\n",
       "  </thead>\n",
       "  <tbody>\n",
       "  </tbody>\n",
       "</table>\n",
       "</div>"
      ],
      "text/plain": [
       "Empty DataFrame\n",
       "Columns: [Success]\n",
       "Index: []"
      ]
     },
     "execution_count": 13,
     "metadata": {},
     "output_type": "execute_result"
    }
   ],
   "source": [
    "con.execute(f\"\"\"\n",
    "DROP TABLE argo{year}_positions;\n",
    "DROP TABLE argo{year}_raw;\n",
    "DROP TABLE nearest_region;\n",
    "DROP TABLE positions_with_region;\"\"\").fetch_df()"
   ]
  },
  {
   "cell_type": "code",
   "execution_count": 14,
   "metadata": {},
   "outputs": [
    {
     "data": {
      "application/vnd.jupyter.widget-view+json": {
       "model_id": "a0b75f6747d046f6975e8b27e3ada54d",
       "version_major": 2,
       "version_minor": 0
      },
      "text/plain": [
       "FloatProgress(value=0.0, layout=Layout(width='auto'), style=ProgressStyle(bar_color='black'))"
      ]
     },
     "metadata": {},
     "output_type": "display_data"
    },
    {
     "data": {
      "text/plain": [
       "<duckdb.duckdb.DuckDBPyConnection at 0x87aa5f0>"
      ]
     },
     "execution_count": 14,
     "metadata": {},
     "output_type": "execute_result"
    }
   ],
   "source": [
    "con.execute(f\"\"\"\n",
    "CREATE TABLE argo{year}_with_region AS\n",
    "SELECT a.*, r.region_name\n",
    "FROM argo{year}_slim a\n",
    "LEFT JOIN argo{year}_positions_region r\n",
    "ON a.lat = r.lat AND a.lon = r.lon;\n",
    "\"\"\")"
   ]
  },
  {
   "cell_type": "code",
   "execution_count": 15,
   "metadata": {},
   "outputs": [
    {
     "data": {
      "text/html": [
       "<div>\n",
       "<style scoped>\n",
       "    .dataframe tbody tr th:only-of-type {\n",
       "        vertical-align: middle;\n",
       "    }\n",
       "\n",
       "    .dataframe tbody tr th {\n",
       "        vertical-align: top;\n",
       "    }\n",
       "\n",
       "    .dataframe thead th {\n",
       "        text-align: right;\n",
       "    }\n",
       "</style>\n",
       "<table border=\"1\" class=\"dataframe\">\n",
       "  <thead>\n",
       "    <tr style=\"text-align: right;\">\n",
       "      <th></th>\n",
       "      <th>Success</th>\n",
       "    </tr>\n",
       "  </thead>\n",
       "  <tbody>\n",
       "  </tbody>\n",
       "</table>\n",
       "</div>"
      ],
      "text/plain": [
       "Empty DataFrame\n",
       "Columns: [Success]\n",
       "Index: []"
      ]
     },
     "execution_count": 15,
     "metadata": {},
     "output_type": "execute_result"
    }
   ],
   "source": [
    "con.execute(f\"DROP TABLE argo{year}_slim\").fetch_df()"
   ]
  },
  {
   "cell_type": "code",
   "execution_count": 16,
   "metadata": {},
   "outputs": [
    {
     "data": {
      "text/plain": [
       "<duckdb.duckdb.DuckDBPyConnection at 0x87aa5f0>"
      ]
     },
     "execution_count": 16,
     "metadata": {},
     "output_type": "execute_result"
    }
   ],
   "source": [
    "con.execute(f\"ALTER TABLE argo{year}_with_region RENAME TO argo{year};\")"
   ]
  },
  {
   "cell_type": "code",
   "execution_count": 17,
   "metadata": {},
   "outputs": [
    {
     "data": {
      "text/html": [
       "<div>\n",
       "<style scoped>\n",
       "    .dataframe tbody tr th:only-of-type {\n",
       "        vertical-align: middle;\n",
       "    }\n",
       "\n",
       "    .dataframe tbody tr th {\n",
       "        vertical-align: top;\n",
       "    }\n",
       "\n",
       "    .dataframe thead th {\n",
       "        text-align: right;\n",
       "    }\n",
       "</style>\n",
       "<table border=\"1\" class=\"dataframe\">\n",
       "  <thead>\n",
       "    <tr style=\"text-align: right;\">\n",
       "      <th></th>\n",
       "      <th>Count</th>\n",
       "    </tr>\n",
       "  </thead>\n",
       "  <tbody>\n",
       "    <tr>\n",
       "      <th>0</th>\n",
       "      <td>176314</td>\n",
       "    </tr>\n",
       "  </tbody>\n",
       "</table>\n",
       "</div>"
      ],
      "text/plain": [
       "    Count\n",
       "0  176314"
      ]
     },
     "execution_count": 17,
     "metadata": {},
     "output_type": "execute_result"
    }
   ],
   "source": [
    "con.execute(f\"\"\"Create table distinct_float_positions_{year} as\n",
    "Select distinct platform_id, date, lat, lon from argo{year};\"\"\").fetchdf()"
   ]
  },
  {
   "cell_type": "code",
   "execution_count": 19,
   "metadata": {},
   "outputs": [
    {
     "data": {
      "text/html": [
       "<div>\n",
       "<style scoped>\n",
       "    .dataframe tbody tr th:only-of-type {\n",
       "        vertical-align: middle;\n",
       "    }\n",
       "\n",
       "    .dataframe tbody tr th {\n",
       "        vertical-align: top;\n",
       "    }\n",
       "\n",
       "    .dataframe thead th {\n",
       "        text-align: right;\n",
       "    }\n",
       "</style>\n",
       "<table border=\"1\" class=\"dataframe\">\n",
       "  <thead>\n",
       "    <tr style=\"text-align: right;\">\n",
       "      <th></th>\n",
       "      <th>Count</th>\n",
       "    </tr>\n",
       "  </thead>\n",
       "  <tbody>\n",
       "    <tr>\n",
       "      <th>0</th>\n",
       "      <td>4718</td>\n",
       "    </tr>\n",
       "  </tbody>\n",
       "</table>\n",
       "</div>"
      ],
      "text/plain": [
       "   Count\n",
       "0   4718"
      ]
     },
     "execution_count": 19,
     "metadata": {},
     "output_type": "execute_result"
    }
   ],
   "source": [
    "con.execute(f\"\"\"CREATE TABLE latest_float_positions_{year} AS\n",
    "SELECT\n",
    "    platform_id,\n",
    "    ARGMAX(lat, date) AS lat,\n",
    "    ARGMAX(lon, date) AS lon,\n",
    "    MAX(date) AS date\n",
    "FROM\n",
    "    distinct_float_positions_{year}\n",
    "GROUP BY\n",
    "    platform_id;\"\"\").fetch_df()"
   ]
  },
  {
   "cell_type": "code",
   "execution_count": 5,
   "metadata": {},
   "outputs": [
    {
     "data": {
      "text/html": [
       "<div>\n",
       "<style scoped>\n",
       "    .dataframe tbody tr th:only-of-type {\n",
       "        vertical-align: middle;\n",
       "    }\n",
       "\n",
       "    .dataframe tbody tr th {\n",
       "        vertical-align: top;\n",
       "    }\n",
       "\n",
       "    .dataframe thead th {\n",
       "        text-align: right;\n",
       "    }\n",
       "</style>\n",
       "<table border=\"1\" class=\"dataframe\">\n",
       "  <thead>\n",
       "    <tr style=\"text-align: right;\">\n",
       "      <th></th>\n",
       "      <th>name</th>\n",
       "    </tr>\n",
       "  </thead>\n",
       "  <tbody>\n",
       "    <tr>\n",
       "      <th>0</th>\n",
       "      <td>argo2022</td>\n",
       "    </tr>\n",
       "    <tr>\n",
       "      <th>1</th>\n",
       "      <td>argo2022_positions_region</td>\n",
       "    </tr>\n",
       "    <tr>\n",
       "      <th>2</th>\n",
       "      <td>argo2023</td>\n",
       "    </tr>\n",
       "    <tr>\n",
       "      <th>3</th>\n",
       "      <td>argo2023_positions_region</td>\n",
       "    </tr>\n",
       "    <tr>\n",
       "      <th>4</th>\n",
       "      <td>argo2024</td>\n",
       "    </tr>\n",
       "    <tr>\n",
       "      <th>5</th>\n",
       "      <td>argo2024_positions_region</td>\n",
       "    </tr>\n",
       "    <tr>\n",
       "      <th>6</th>\n",
       "      <td>distinct_float_positions_2022</td>\n",
       "    </tr>\n",
       "    <tr>\n",
       "      <th>7</th>\n",
       "      <td>distinct_float_positions_2023</td>\n",
       "    </tr>\n",
       "    <tr>\n",
       "      <th>8</th>\n",
       "      <td>distinct_float_positions_2024</td>\n",
       "    </tr>\n",
       "    <tr>\n",
       "      <th>9</th>\n",
       "      <td>latest_float_positions_2022</td>\n",
       "    </tr>\n",
       "    <tr>\n",
       "      <th>10</th>\n",
       "      <td>latest_float_positions_2023</td>\n",
       "    </tr>\n",
       "    <tr>\n",
       "      <th>11</th>\n",
       "      <td>latest_float_positions_2024</td>\n",
       "    </tr>\n",
       "    <tr>\n",
       "      <th>12</th>\n",
       "      <td>messages</td>\n",
       "    </tr>\n",
       "    <tr>\n",
       "      <th>13</th>\n",
       "      <td>sessions</td>\n",
       "    </tr>\n",
       "    <tr>\n",
       "      <th>14</th>\n",
       "      <td>world_seas_iho_v3</td>\n",
       "    </tr>\n",
       "  </tbody>\n",
       "</table>\n",
       "</div>"
      ],
      "text/plain": [
       "                             name\n",
       "0                        argo2022\n",
       "1       argo2022_positions_region\n",
       "2                        argo2023\n",
       "3       argo2023_positions_region\n",
       "4                        argo2024\n",
       "5       argo2024_positions_region\n",
       "6   distinct_float_positions_2022\n",
       "7   distinct_float_positions_2023\n",
       "8   distinct_float_positions_2024\n",
       "9     latest_float_positions_2022\n",
       "10    latest_float_positions_2023\n",
       "11    latest_float_positions_2024\n",
       "12                       messages\n",
       "13                       sessions\n",
       "14              world_seas_iho_v3"
      ]
     },
     "execution_count": 5,
     "metadata": {},
     "output_type": "execute_result"
    }
   ],
   "source": [
    "con.execute(\"SHOW TABLES;\").fetch_df()"
   ]
  },
  {
   "cell_type": "code",
   "execution_count": null,
   "metadata": {},
   "outputs": [],
   "source": [
    "con.close()"
   ]
  }
 ],
 "metadata": {
  "kernelspec": {
   "display_name": "Python 3",
   "language": "python",
   "name": "python3"
  },
  "language_info": {
   "codemirror_mode": {
    "name": "ipython",
    "version": 3
   },
   "file_extension": ".py",
   "mimetype": "text/x-python",
   "name": "python",
   "nbconvert_exporter": "python",
   "pygments_lexer": "ipython3",
   "version": "3.12.6"
  }
 },
 "nbformat": 4,
 "nbformat_minor": 2
}
