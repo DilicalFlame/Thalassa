{
 "cells": [
  {
   "cell_type": "code",
   "execution_count": 1,
   "metadata": {},
   "outputs": [
    {
     "ename": "CatalogException",
     "evalue": "Catalog Error: Table with name ARGO2023_SLIM does not exist!\nDid you mean \"duckdb_logs\"?\n\nLINE 1: SELECT DISTINCT PLATFORM_ID FROM ARGO2023_SLIM ORDER BY PLATFORM_ID LIMIT 10\n                                         ^",
     "output_type": "error",
     "traceback": [
      "\u001b[31m---------------------------------------------------------------------------\u001b[39m",
      "\u001b[31mCatalogException\u001b[39m                          Traceback (most recent call last)",
      "\u001b[36mCell\u001b[39m\u001b[36m \u001b[39m\u001b[32mIn[1]\u001b[39m\u001b[32m, line 5\u001b[39m\n\u001b[32m      1\u001b[39m \u001b[38;5;28;01mimport\u001b[39;00m\u001b[38;5;250m \u001b[39m\u001b[34;01mduckdb\u001b[39;00m\n\u001b[32m      3\u001b[39m con = duckdb.connect(\u001b[33m\"\u001b[39m\u001b[33margo.db\u001b[39m\u001b[33m\"\u001b[39m)\n\u001b[32m----> \u001b[39m\u001b[32m5\u001b[39m \u001b[38;5;28mprint\u001b[39m(\u001b[43mcon\u001b[49m\u001b[43m.\u001b[49m\u001b[43mexecute\u001b[49m\u001b[43m(\u001b[49m\u001b[33;43m\"\"\"\u001b[39;49m\u001b[33;43mSELECT DISTINCT PLATFORM_ID FROM ARGO2023_SLIM ORDER BY PLATFORM_ID LIMIT 10\u001b[39;49m\u001b[33;43m\"\"\"\u001b[39;49m\u001b[43m)\u001b[49m.fetchdf())\n\u001b[32m      7\u001b[39m con.close()\n",
      "\u001b[31mCatalogException\u001b[39m: Catalog Error: Table with name ARGO2023_SLIM does not exist!\nDid you mean \"duckdb_logs\"?\n\nLINE 1: SELECT DISTINCT PLATFORM_ID FROM ARGO2023_SLIM ORDER BY PLATFORM_ID LIMIT 10\n                                         ^"
     ]
    }
   ],
   "source": [
    "import duckdb\n",
    "\n",
    "con = duckdb.connect(\"argo.db\")\n",
    "\n",
    "print(con.execute(\"\"\"SELECT DISTINCT PLATFORM_ID FROM ARGO2023_SLIM ORDER BY PLATFORM_ID LIMIT 10\"\"\").fetchdf())\n",
    "\n",
    "con.close()"
   ]
  },
  {
   "cell_type": "code",
   "execution_count": 5,
   "metadata": {},
   "outputs": [
    {
     "name": "stdout",
     "output_type": "stream",
     "text": [
      "   platform_id                      date    lat     lon  depth_m  temp_c  \\\n",
      "0      1901514 2023-01-08 06:57:15+05:30  1.628  44.639      0.0  25.669   \n",
      "1      1901514 2023-01-19 00:57:19+05:30  1.608  44.641      0.0  26.155   \n",
      "2      1901514 2023-02-20 06:57:13+05:30  1.625  44.639      0.0  23.419   \n",
      "3      1901514 2023-02-20 06:57:13+05:30  1.625  44.639      0.0  23.404   \n",
      "4      1901514 2023-03-03 00:57:11+05:30  1.671  44.579      0.0  26.434   \n",
      "5      1901514 2023-03-03 00:57:11+05:30  1.671  44.579      0.0  26.418   \n",
      "6      1901514 2023-04-15 00:57:00+05:30  1.628  44.646      0.0  28.686   \n",
      "7      1901514 2023-04-15 00:57:00+05:30  1.628  44.646      0.0  28.703   \n",
      "8      1901514 2023-05-28 00:56:54+05:30  1.624  44.639      0.0  26.967   \n",
      "9      1901514 2023-05-28 00:56:54+05:30  1.624  44.639      0.0  26.955   \n",
      "\n",
      "   sal_psu  pres_qc  temp_qc  psal_qc  \n",
      "0    0.023        4        4        4  \n",
      "1    0.124        4        4        4  \n",
      "2    0.013        4        4        4  \n",
      "3    0.013        4        4        4  \n",
      "4    0.013        4        4        4  \n",
      "5    0.013        4        4        4  \n",
      "6    0.000        4        4        4  \n",
      "7    0.000        4        4        4  \n",
      "8    0.013        4        4        4  \n",
      "9    0.013        4        4        4  \n"
     ]
    }
   ],
   "source": [
    "import duckdb\n",
    "\n",
    "con = duckdb.connect(\"argo.db\")\n",
    "\n",
    "print(con.execute(\"\"\"SELECT * FROM ARGO2023_SLIM where platform_id != 1901443 ORDER BY PLATFORM_ID LIMIT 10\"\"\").fetchdf())\n",
    "\n",
    "con.close()"
   ]
  },
  {
   "cell_type": "code",
   "execution_count": 6,
   "metadata": {},
   "outputs": [
    {
     "name": "stdout",
     "output_type": "stream",
     "text": [
      "        platform_id                      date        lat         lon\n",
      "0           1902045 2023-01-31 20:15:50+05:30 -40.876950  110.343050\n",
      "1           1902045 2023-07-09 07:01:06+05:30 -40.172420  107.185500\n",
      "2           1902046 2023-07-30 07:04:54+05:30 -41.124010   49.901250\n",
      "3           1902046 2023-08-19 02:45:33+05:30 -38.497160   51.927050\n",
      "4           1902046 2023-08-29 00:45:58+05:30 -38.588530   52.751750\n",
      "...             ...                       ...        ...         ...\n",
      "170834      4902662 2023-11-10 11:37:00+05:30  49.079155 -127.469780\n",
      "170835      4902663 2023-10-23 11:42:00+05:30  48.685383 -127.726387\n",
      "170836      4902670 2023-07-26 12:45:00+05:30  60.514328  -54.206314\n",
      "170837      4902670 2023-11-26 00:45:00+05:30  58.685802  -54.453861\n",
      "170838      4902670 2023-12-06 05:34:00+05:30  58.375793  -54.328617\n",
      "\n",
      "[170839 rows x 4 columns]\n"
     ]
    }
   ],
   "source": [
    "import duckdb\n",
    "\n",
    "con = duckdb.connect(\"argo.db\")\n",
    "\n",
    "print(con.execute(\"\"\"\n",
    "SELECT DISTINCT \n",
    "    platform_id, \n",
    "    date, \n",
    "    lat, \n",
    "    lon\n",
    "FROM argo2023_slim;\"\"\").fetchdf())\n",
    "\n",
    "con.close()"
   ]
  },
  {
   "cell_type": "code",
   "execution_count": null,
   "metadata": {},
   "outputs": [],
   "source": [
    "# delete from argo2023_raw where lat = double precision 'NaN' or lon = double precision 'NaN';"
   ]
  },
  {
   "cell_type": "code",
   "execution_count": 1,
   "metadata": {},
   "outputs": [
    {
     "name": "stdout",
     "output_type": "stream",
     "text": [
      "                        name\n",
      "0                   argo2023\n",
      "1  argo2023_positions_region\n",
      "2   distinct_float_positions\n",
      "3     latest_float_positions\n",
      "4                   messages\n",
      "5                   sessions\n",
      "6          world_seas_iho_v3\n",
      "Empty DataFrame\n",
      "Columns: [Success]\n",
      "Index: []\n",
      "Empty DataFrame\n",
      "Columns: [Success]\n",
      "Index: []\n",
      "Empty DataFrame\n",
      "Columns: [Success]\n",
      "Index: []\n"
     ]
    }
   ],
   "source": [
    "import duckdb\n",
    "\n",
    "con = duckdb.connect(\"../../LOCAL/Resources/argo.db\")\n",
    "query1 = \"SELECT AVG(temp_c) AS avg_temp_c FROM argo2023 WHERE region_name ILIKE 'Arabian Sea' AND temp_c IS NOT NULL;\"\n",
    "query2 = \"Describe argo2023;\"\n",
    "query3 = \"select sal_psu from argo2023 WHERE region_name ILIKE 'Arabian Sea' and sal_psu is not null and not isnan(sal_psu) order by temp_c asc;\"\n",
    "query4 = \"\"\"SELECT date, depth_m, temp_c, sal_psu\n",
    "            FROM argo.argo2023\n",
    "            WHERE platform_id = 5906080\n",
    "            ORDER BY date, depth_m;\"\"\"\n",
    "query5 = \"SHOW TABLES\"\n",
    "\n",
    "print(con.execute(query5).fetch_df())\n",
    "print(con.execute(\"DROP SEQUENCE message_id_seq\").fetchdf())\n",
    "print(con.execute(\"drop table messages\").fetchdf())\n",
    "print(con.execute(\"drop table sessions\").fetchdf())\n",
    "con.close()\n"
   ]
  }
 ],
 "metadata": {
  "kernelspec": {
   "display_name": ".venv",
   "language": "python",
   "name": "python3"
  },
  "language_info": {
   "codemirror_mode": {
    "name": "ipython",
    "version": 3
   },
   "file_extension": ".py",
   "mimetype": "text/x-python",
   "name": "python",
   "nbconvert_exporter": "python",
   "pygments_lexer": "ipython3",
   "version": "3.12.6"
  }
 },
 "nbformat": 4,
 "nbformat_minor": 2
}
