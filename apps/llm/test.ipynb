{
 "cells": [
  {
   "cell_type": "code",
   "metadata": {
    "jupyter": {
     "is_executing": true
    }
   },
   "source": [
    "import requests\n",
    "resp = requests.get(\"http://localhost:8001/sessions\")\n",
    "print(resp.json())"
   ],
   "outputs": [],
   "execution_count": null
  },
  {
   "cell_type": "code",
   "execution_count": 14,
   "metadata": {},
   "outputs": [
    {
     "name": "stdout",
     "output_type": "stream",
     "text": [
      "{'detail': 'Session not found or no messages'}\n"
     ]
    }
   ],
   "source": [
    "session_id = \"9fbf4407-cef7-4949-8bad-0e36b7f3b362\"\n",
    "resp = requests.get(f\"http://localhost:8001/sessions/{session_id}/history\")\n",
    "print(resp.json())"
   ]
  },
  {
   "cell_type": "code",
   "execution_count": 15,
   "metadata": {},
   "outputs": [
    {
     "name": "stdout",
     "output_type": "stream",
     "text": [
      "{'session_id': '9fbf4407-cef7-4949-8bad-0e36b7f3b362', 'answer': 'The average temperature of the Indian Ocean, based on the available Argo float measurements, is **approximately\\u202f7.15\\u202f°C**.', 'history': [{'role': 'user', 'content': 'tell the temperature of Indian ocean.'}, {'role': 'assistant', 'content': 'The average temperature of the Indian Ocean, based on the available Argo float measurements, is **approximately\\u202f7.15\\u202f°C**.'}]}\n"
     ]
    }
   ],
   "source": [
    "resp = requests.post(\n",
    "    \"http://localhost:8001/chat\",\n",
    "    json={\"session_id\": session_id, \"message\": \"tell the temperature of Indian ocean.\"}\n",
    ")\n",
    "print(resp.json())"
   ]
  },
  {
   "cell_type": "code",
   "execution_count": 17,
   "metadata": {},
   "outputs": [
    {
     "name": "stdout",
     "output_type": "stream",
     "text": [
      "{'session_id': 'fe634fd8-395c-4f62-ac68-569148f79000', 'answer': '**Average temperatures (2023 Argo data)**  \\n\\n| Water body | Month (if applicable) | Average temperature (°C) |\\n|------------|----------------------|--------------------------|\\n| Arabian Sea | – (all months) | **≈\\u202f13.2\\u202f°C** |\\n| Atlantic Ocean | August | **≈\\u202f7.90\\u202f°C** |\\n\\n**Comparison**\\n\\n- The Arabian Sea is **about 5.3\\u202f°C warmer** than the Atlantic Ocean in August (13.2\\u202f°C\\u202f–\\u202f7.90\\u202f°C ≈ **5.3\\u202f°C**).  \\n\\nSo, during August, the Atlantic Ocean is considerably cooler—roughly five degrees Celsius—than the Arabian Sea according to the 2023 Argo float measurements.', 'history': [{'role': 'user', 'content': 'What is the average temperature in the Arabian Sea?'}, {'role': 'assistant', 'content': 'The average temperature of the Argo measurements in the Arabian Sea is **approximately 13.19\\u202f°C**.'}, {'role': 'user', 'content': 'What was my previous question?'}, {'role': 'assistant', 'content': 'Your previous question was: “What is the average temperature in the Arabian Sea?”'}, {'role': 'user', 'content': 'Compare the temperature of Indian ocean to the previously mentioned water body.'}, {'role': 'assistant', 'content': '**Average temperatures (based on the 2023 Argo float data)**  \\n\\n| Water body | Average temperature (°C) |\\n|------------|--------------------------|\\n| Arabian Sea | **≈\\u202f13.2\\u202f°C** |\\n| Indian Ocean | **≈\\u202f7.15\\u202f°C** |\\n\\n**Comparison**\\n\\n- The Arabian Sea is considerably warmer than the broader Indian Ocean in the 2023 dataset.  \\n- The temperature difference is roughly **6\\u202f°C** (13.2\\u202f°C\\u202f–\\u202f7.15\\u202f°C ≈ **6.0\\u202f°C**).  \\n\\nSo, on average, the Arabian Sea’s surface and subsurface waters are about six degrees Celsius warmer than the overall Indian Ocean during the same period.'}, {'role': 'user', 'content': 'Tell me how many questions I have asked till now and tell me what all i have asked.'}, {'role': 'assistant', 'content': 'You’ve asked **five** separate questions so far. Here’s a quick rundown of each one:\\n\\n1. **“What is the average temperature in the Arabian Sea?”**  \\n2. **“What was my previous question?”**  \\n3. **“Compare the temperature of Indian Ocean to the previously mentioned water body.”**  \\n4. **“Tell me how many questions I have asked till now and tell me what all i have asked.”**  \\n5. **(Repeated) “Tell me how many questions I have asked till now and tell me what all i have asked.”**'}, {'role': 'user', 'content': 'Compare the average temperature in the Atlantic ocean in august to the previously mentioned water body.'}, {'role': 'assistant', 'content': '**Average temperatures (2023 Argo data)**  \\n\\n| Water body | Month (if applicable) | Average temperature (°C) |\\n|------------|----------------------|--------------------------|\\n| Arabian Sea | – (all months) | **≈\\u202f13.2\\u202f°C** |\\n| Atlantic Ocean | August | **≈\\u202f7.90\\u202f°C** |\\n\\n**Comparison**\\n\\n- The Arabian Sea is **about 5.3\\u202f°C warmer** than the Atlantic Ocean in August (13.2\\u202f°C\\u202f–\\u202f7.90\\u202f°C ≈ **5.3\\u202f°C**).  \\n\\nSo, during August, the Atlantic Ocean is considerably cooler—roughly five degrees Celsius—than the Arabian Sea according to the 2023 Argo float measurements.'}]}\n"
     ]
    }
   ],
   "source": [
    "resp = requests.post(\n",
    "    \"http://localhost:8001/chat\",\n",
    "    json={\"session_id\": session_id, \"message\": \"Compare the average temperature in the Atlantic ocean in august to the previously mentioned water body.\"}\n",
    ")\n",
    "print(resp.json())"
   ]
  },
  {
   "cell_type": "code",
   "execution_count": 2,
   "metadata": {},
   "outputs": [
    {
     "name": "stdout",
     "output_type": "stream",
     "text": [
      "{'session_id': '9fbf4407-cef7-4949-8bad-0e36b7f3b362', 'message': 'New session created.'}\n"
     ]
    }
   ],
   "source": [
    "import requests\n",
    "\n",
    "resp = requests.post(\"http://localhost:8001/sessions/new\")\n",
    "print(resp.json())\n"
   ]
  },
  {
   "cell_type": "code",
   "execution_count": 7,
   "metadata": {},
   "outputs": [
    {
     "ename": "JSONDecodeError",
     "evalue": "Expecting value: line 1 column 1 (char 0)",
     "output_type": "error",
     "traceback": [
      "\u001B[31m---------------------------------------------------------------------------\u001B[39m",
      "\u001B[31mJSONDecodeError\u001B[39m                           Traceback (most recent call last)",
      "\u001B[36mFile \u001B[39m\u001B[32mc:\\Data\\Thalassa\\apps\\llm\\.venv\\Lib\\site-packages\\requests\\models.py:976\u001B[39m, in \u001B[36mResponse.json\u001B[39m\u001B[34m(self, **kwargs)\u001B[39m\n\u001B[32m    975\u001B[39m \u001B[38;5;28;01mtry\u001B[39;00m:\n\u001B[32m--> \u001B[39m\u001B[32m976\u001B[39m     \u001B[38;5;28;01mreturn\u001B[39;00m \u001B[43mcomplexjson\u001B[49m\u001B[43m.\u001B[49m\u001B[43mloads\u001B[49m\u001B[43m(\u001B[49m\u001B[38;5;28;43mself\u001B[39;49m\u001B[43m.\u001B[49m\u001B[43mtext\u001B[49m\u001B[43m,\u001B[49m\u001B[43m \u001B[49m\u001B[43m*\u001B[49m\u001B[43m*\u001B[49m\u001B[43mkwargs\u001B[49m\u001B[43m)\u001B[49m\n\u001B[32m    977\u001B[39m \u001B[38;5;28;01mexcept\u001B[39;00m JSONDecodeError \u001B[38;5;28;01mas\u001B[39;00m e:\n\u001B[32m    978\u001B[39m     \u001B[38;5;66;03m# Catch JSON-related errors and raise as requests.JSONDecodeError\u001B[39;00m\n\u001B[32m    979\u001B[39m     \u001B[38;5;66;03m# This aliases json.JSONDecodeError and simplejson.JSONDecodeError\u001B[39;00m\n",
      "\u001B[36mFile \u001B[39m\u001B[32m~\\AppData\\Local\\Programs\\Python\\Python312\\Lib\\json\\__init__.py:346\u001B[39m, in \u001B[36mloads\u001B[39m\u001B[34m(s, cls, object_hook, parse_float, parse_int, parse_constant, object_pairs_hook, **kw)\u001B[39m\n\u001B[32m    343\u001B[39m \u001B[38;5;28;01mif\u001B[39;00m (\u001B[38;5;28mcls\u001B[39m \u001B[38;5;129;01mis\u001B[39;00m \u001B[38;5;28;01mNone\u001B[39;00m \u001B[38;5;129;01mand\u001B[39;00m object_hook \u001B[38;5;129;01mis\u001B[39;00m \u001B[38;5;28;01mNone\u001B[39;00m \u001B[38;5;129;01mand\u001B[39;00m\n\u001B[32m    344\u001B[39m         parse_int \u001B[38;5;129;01mis\u001B[39;00m \u001B[38;5;28;01mNone\u001B[39;00m \u001B[38;5;129;01mand\u001B[39;00m parse_float \u001B[38;5;129;01mis\u001B[39;00m \u001B[38;5;28;01mNone\u001B[39;00m \u001B[38;5;129;01mand\u001B[39;00m\n\u001B[32m    345\u001B[39m         parse_constant \u001B[38;5;129;01mis\u001B[39;00m \u001B[38;5;28;01mNone\u001B[39;00m \u001B[38;5;129;01mand\u001B[39;00m object_pairs_hook \u001B[38;5;129;01mis\u001B[39;00m \u001B[38;5;28;01mNone\u001B[39;00m \u001B[38;5;129;01mand\u001B[39;00m \u001B[38;5;129;01mnot\u001B[39;00m kw):\n\u001B[32m--> \u001B[39m\u001B[32m346\u001B[39m     \u001B[38;5;28;01mreturn\u001B[39;00m \u001B[43m_default_decoder\u001B[49m\u001B[43m.\u001B[49m\u001B[43mdecode\u001B[49m\u001B[43m(\u001B[49m\u001B[43ms\u001B[49m\u001B[43m)\u001B[49m\n\u001B[32m    347\u001B[39m \u001B[38;5;28;01mif\u001B[39;00m \u001B[38;5;28mcls\u001B[39m \u001B[38;5;129;01mis\u001B[39;00m \u001B[38;5;28;01mNone\u001B[39;00m:\n",
      "\u001B[36mFile \u001B[39m\u001B[32m~\\AppData\\Local\\Programs\\Python\\Python312\\Lib\\json\\decoder.py:337\u001B[39m, in \u001B[36mJSONDecoder.decode\u001B[39m\u001B[34m(self, s, _w)\u001B[39m\n\u001B[32m    333\u001B[39m \u001B[38;5;250m\u001B[39m\u001B[33;03m\"\"\"Return the Python representation of ``s`` (a ``str`` instance\u001B[39;00m\n\u001B[32m    334\u001B[39m \u001B[33;03mcontaining a JSON document).\u001B[39;00m\n\u001B[32m    335\u001B[39m \n\u001B[32m    336\u001B[39m \u001B[33;03m\"\"\"\u001B[39;00m\n\u001B[32m--> \u001B[39m\u001B[32m337\u001B[39m obj, end = \u001B[38;5;28;43mself\u001B[39;49m\u001B[43m.\u001B[49m\u001B[43mraw_decode\u001B[49m\u001B[43m(\u001B[49m\u001B[43ms\u001B[49m\u001B[43m,\u001B[49m\u001B[43m \u001B[49m\u001B[43midx\u001B[49m\u001B[43m=\u001B[49m\u001B[43m_w\u001B[49m\u001B[43m(\u001B[49m\u001B[43ms\u001B[49m\u001B[43m,\u001B[49m\u001B[43m \u001B[49m\u001B[32;43m0\u001B[39;49m\u001B[43m)\u001B[49m\u001B[43m.\u001B[49m\u001B[43mend\u001B[49m\u001B[43m(\u001B[49m\u001B[43m)\u001B[49m\u001B[43m)\u001B[49m\n\u001B[32m    338\u001B[39m end = _w(s, end).end()\n",
      "\u001B[36mFile \u001B[39m\u001B[32m~\\AppData\\Local\\Programs\\Python\\Python312\\Lib\\json\\decoder.py:355\u001B[39m, in \u001B[36mJSONDecoder.raw_decode\u001B[39m\u001B[34m(self, s, idx)\u001B[39m\n\u001B[32m    354\u001B[39m \u001B[38;5;28;01mexcept\u001B[39;00m \u001B[38;5;167;01mStopIteration\u001B[39;00m \u001B[38;5;28;01mas\u001B[39;00m err:\n\u001B[32m--> \u001B[39m\u001B[32m355\u001B[39m     \u001B[38;5;28;01mraise\u001B[39;00m JSONDecodeError(\u001B[33m\"\u001B[39m\u001B[33mExpecting value\u001B[39m\u001B[33m\"\u001B[39m, s, err.value) \u001B[38;5;28;01mfrom\u001B[39;00m\u001B[38;5;250m \u001B[39m\u001B[38;5;28;01mNone\u001B[39;00m\n\u001B[32m    356\u001B[39m \u001B[38;5;28;01mreturn\u001B[39;00m obj, end\n",
      "\u001B[31mJSONDecodeError\u001B[39m: Expecting value: line 1 column 1 (char 0)",
      "\nDuring handling of the above exception, another exception occurred:\n",
      "\u001B[31mJSONDecodeError\u001B[39m                           Traceback (most recent call last)",
      "\u001B[36mCell\u001B[39m\u001B[36m \u001B[39m\u001B[32mIn[7]\u001B[39m\u001B[32m, line 1\u001B[39m\n\u001B[32m----> \u001B[39m\u001B[32m1\u001B[39m session_id = \u001B[43mresp\u001B[49m\u001B[43m.\u001B[49m\u001B[43mjson\u001B[49m\u001B[43m(\u001B[49m\u001B[43m)\u001B[49m[\u001B[33m\"\u001B[39m\u001B[33msession_id\u001B[39m\u001B[33m\"\u001B[39m]\n\u001B[32m      3\u001B[39m resp = requests.post(\n\u001B[32m      4\u001B[39m     \u001B[33m\"\u001B[39m\u001B[33mhttp://localhost:8001/chat\u001B[39m\u001B[33m\"\u001B[39m,\n\u001B[32m      5\u001B[39m     json={\u001B[33m\"\u001B[39m\u001B[33msession_id\u001B[39m\u001B[33m\"\u001B[39m: session_id, \u001B[33m\"\u001B[39m\u001B[33mmessage\u001B[39m\u001B[33m\"\u001B[39m: \u001B[33m\"\u001B[39m\u001B[33mWhat is the average temperature in the Atlantic ocean in august?\u001B[39m\u001B[33m\"\u001B[39m}\n\u001B[32m      6\u001B[39m )\n\u001B[32m      8\u001B[39m \u001B[38;5;28mprint\u001B[39m(resp)\n",
      "\u001B[36mFile \u001B[39m\u001B[32mc:\\Data\\Thalassa\\apps\\llm\\.venv\\Lib\\site-packages\\requests\\models.py:980\u001B[39m, in \u001B[36mResponse.json\u001B[39m\u001B[34m(self, **kwargs)\u001B[39m\n\u001B[32m    976\u001B[39m     \u001B[38;5;28;01mreturn\u001B[39;00m complexjson.loads(\u001B[38;5;28mself\u001B[39m.text, **kwargs)\n\u001B[32m    977\u001B[39m \u001B[38;5;28;01mexcept\u001B[39;00m JSONDecodeError \u001B[38;5;28;01mas\u001B[39;00m e:\n\u001B[32m    978\u001B[39m     \u001B[38;5;66;03m# Catch JSON-related errors and raise as requests.JSONDecodeError\u001B[39;00m\n\u001B[32m    979\u001B[39m     \u001B[38;5;66;03m# This aliases json.JSONDecodeError and simplejson.JSONDecodeError\u001B[39;00m\n\u001B[32m--> \u001B[39m\u001B[32m980\u001B[39m     \u001B[38;5;28;01mraise\u001B[39;00m RequestsJSONDecodeError(e.msg, e.doc, e.pos)\n",
      "\u001B[31mJSONDecodeError\u001B[39m: Expecting value: line 1 column 1 (char 0)"
     ]
    }
   ],
   "source": [
    "session_id = resp.json()[\"session_id\"]\n",
    "\n",
    "resp = requests.post(\n",
    "    \"http://localhost:8001/chat\",\n",
    "    json={\"session_id\": session_id, \"message\": \"What is the average temperature in the Atlantic ocean in august?\"}\n",
    ")\n",
    "\n",
    "print(resp)"
   ]
  },
  {
   "cell_type": "code",
   "execution_count": 62,
   "metadata": {},
   "outputs": [
    {
     "name": "stdout",
     "output_type": "stream",
     "text": [
      "{'session_id': 'd816871f-6ef7-4910-859c-41e3bb8123aa', 'answer': 'Your previous question was: “What is the average temperature in the Atlantic ocean in August?”', 'history': [{'role': 'user', 'content': 'What is the average temperature in the Atlantic ocean in august?'}, {'role': 'assistant', 'content': 'The average temperature of Argo float measurements in the Atlantic Ocean during August is **approximately\\u202f7.9\\u202f°C**.'}, {'role': 'user', 'content': 'What was my previous question?'}, {'role': 'assistant', 'content': 'Your previous question was: “What is the average temperature in the Atlantic ocean in August?”'}]}\n"
     ]
    }
   ],
   "source": [
    "resp = requests.post(\n",
    "    \"http://localhost:8000/chat\",\n",
    "    json={\"session_id\": session_id, \"message\": \"What was my previous question?\"}\n",
    ")\n",
    "print(resp.json())"
   ]
  },
  {
   "cell_type": "code",
   "execution_count": 63,
   "metadata": {},
   "outputs": [
    {
     "name": "stdout",
     "output_type": "stream",
     "text": [
      "{'sessions': [{'id': 'd816871f-6ef7-4910-859c-41e3bb8123aa', 'created_at': '2025-09-22 01:23:07.668000'}, {'id': 'fe634fd8-395c-4f62-ac68-569148f79000', 'created_at': '2025-09-22 01:21:02.109000'}]}\n"
     ]
    }
   ],
   "source": [
    "resp = requests.get(\"http://localhost:8000/sessions\")\n",
    "print(resp.json())"
   ]
  },
  {
   "cell_type": "code",
   "execution_count": 64,
   "metadata": {},
   "outputs": [
    {
     "name": "stdout",
     "output_type": "stream",
     "text": [
      "{'session_id': 'd816871f-6ef7-4910-859c-41e3bb8123aa', 'history': [{'role': 'user', 'content': 'What is the average temperature in the Atlantic ocean in august?', 'created_at': '2025-09-22 01:23:42.677000'}, {'role': 'assistant', 'content': 'The average temperature of Argo float measurements in the Atlantic Ocean during August is **approximately\\u202f7.9\\u202f°C**.', 'created_at': '2025-09-22 01:23:42.681000'}, {'role': 'user', 'content': 'What was my previous question?', 'created_at': '2025-09-22 01:25:13.823000'}, {'role': 'assistant', 'content': 'Your previous question was: “What is the average temperature in the Atlantic ocean in August?”', 'created_at': '2025-09-22 01:25:13.827000'}]}\n"
     ]
    }
   ],
   "source": [
    "resp = requests.get(f\"http://localhost:8000/sessions/{session_id}/history\")\n",
    "print(resp.json())"
   ]
  },
  {
   "cell_type": "code",
   "execution_count": 65,
   "metadata": {},
   "outputs": [
    {
     "name": "stdout",
     "output_type": "stream",
     "text": [
      "{'session_id': 'd816871f-6ef7-4910-859c-41e3bb8123aa', 'answer': '**Average temperature in August\\u202f2023 (Argo float data)**  \\n\\n| Ocean (region) | Avg. temperature (°C) |\\n|----------------|-----------------------|\\n| Atlantic Ocean (North\\u202f+\\u202fSouth combined) | **≈\\u202f7.8\\u202f°C** (9.43\\u202f°C for the North Atlantic, 6.23\\u202f°C for the South Atlantic) |\\n| Indian Ocean | **≈\\u202f7.0\\u202f°C** |\\n\\n**Comparison**\\n\\n- The Indian Ocean’s August temperature (≈\\u202f7.0\\u202f°C) is **about 0.8\\u202f°C cooler** than the overall average across the Atlantic Ocean (≈\\u202f7.8\\u202f°C).  \\n- The North Atlantic is noticeably warmer (≈\\u202f9.4\\u202f°C) than both the Indian Ocean and the South Atlantic, while the South Atlantic is the coolest of the three (≈\\u202f6.2\\u202f°C).  \\n\\nSo, in August the Indian Ocean is slightly cooler than the Atlantic overall, and considerably cooler than the North Atlantic portion of it.', 'history': [{'role': 'user', 'content': 'What is the average temperature in the Atlantic ocean in august?'}, {'role': 'assistant', 'content': 'The average temperature of Argo float measurements in the Atlantic Ocean during August is **approximately\\u202f7.9\\u202f°C**.'}, {'role': 'user', 'content': 'What was my previous question?'}, {'role': 'assistant', 'content': 'Your previous question was: “What is the average temperature in the Atlantic ocean in August?”'}, {'role': 'user', 'content': 'compare temperature of Indian ocean to the previous mentioned water body'}, {'role': 'assistant', 'content': '**Average temperature in August\\u202f2023 (Argo float data)**  \\n\\n| Ocean (region) | Avg. temperature (°C) |\\n|----------------|-----------------------|\\n| Atlantic Ocean (North\\u202f+\\u202fSouth combined) | **≈\\u202f7.8\\u202f°C** (9.43\\u202f°C for the North Atlantic, 6.23\\u202f°C for the South Atlantic) |\\n| Indian Ocean | **≈\\u202f7.0\\u202f°C** |\\n\\n**Comparison**\\n\\n- The Indian Ocean’s August temperature (≈\\u202f7.0\\u202f°C) is **about 0.8\\u202f°C cooler** than the overall average across the Atlantic Ocean (≈\\u202f7.8\\u202f°C).  \\n- The North Atlantic is noticeably warmer (≈\\u202f9.4\\u202f°C) than both the Indian Ocean and the South Atlantic, while the South Atlantic is the coolest of the three (≈\\u202f6.2\\u202f°C).  \\n\\nSo, in August the Indian Ocean is slightly cooler than the Atlantic overall, and considerably cooler than the North Atlantic portion of it.'}]}\n"
     ]
    }
   ],
   "source": [
    "resp = requests.post(\n",
    "    \"http://localhost:8000/chat\",\n",
    "    json={\"session_id\": session_id, \"message\": \"compare temperature of Indian ocean to the previous mentioned water body\"}\n",
    ")\n",
    "\n",
    "print(resp.json())"
   ]
  },
  {
   "cell_type": "code",
   "execution_count": 54,
   "metadata": {},
   "outputs": [
    {
     "name": "stdout",
     "output_type": "stream",
     "text": [
      "{'session_id': '414fe1fa-b8b8-4206-8cce-92cce4a9d753', 'answer': 'Here’s a quick recap of the questions you’ve asked so far:\\n\\n1. **“What is the average temperature in the Arabian Sea?”**  \\n   - You wanted the mean water temperature (°C) for Argo measurements taken within the Arabian Sea region.\\n\\n2. **“Compare temperature of Indian Ocean to the previous mentioned water body.”**  \\n   - You asked for a side‑by‑side comparison of the average temperature in the Indian Ocean versus the Arabian Sea you just queried.\\n\\n3. **“Tell me what all i have asked till now.”**  \\n   - You’re now requesting a summary of the questions you’ve posed up to this point.', 'history': [{'role': 'user', 'content': 'What is the average temperature in the Arabian Sea?'}, {'role': 'assistant', 'content': 'The average temperature of the measurements taken in the Arabian Sea is **approximately 13.19\\u202f°C**.'}, {'role': 'user', 'content': 'compare temperature of Indian ocean to the previous mentioned water body'}, {'role': 'assistant', 'content': '**Average Temperature Comparison**\\n\\n| Water Body      | Average Temperature (°C) |\\n|-----------------|--------------------------|\\n| Arabian Sea     | **13.19** |\\n| Indian Ocean    | **7.15** |\\n\\nThe Arabian Sea’s average temperature is roughly **6\\u202f°C warmer** than that of the Indian Ocean, based on the available Argo float measurements.'}, {'role': 'user', 'content': 'Tell me what all i have asked till now.'}, {'role': 'assistant', 'content': 'Here’s a quick recap of the questions you’ve asked so far:\\n\\n1. **“What is the average temperature in the Arabian Sea?”**  \\n   - You wanted the mean water temperature (°C) for Argo measurements taken within the Arabian Sea region.\\n\\n2. **“Compare temperature of Indian Ocean to the previous mentioned water body.”**  \\n   - You asked for a side‑by‑side comparison of the average temperature in the Indian Ocean versus the Arabian Sea you just queried.\\n\\n3. **“Tell me what all i have asked till now.”**  \\n   - You’re now requesting a summary of the questions you’ve posed up to this point.'}]}\n"
     ]
    }
   ],
   "source": [
    "resp = requests.post(\n",
    "    \"http://localhost:8000/chat\",\n",
    "    json={\"session_id\": session_id, \"message\": \"Tell me what all i have asked till now.\"}\n",
    ")\n",
    "\n",
    "print(resp.json())"
   ]
  },
  {
   "cell_type": "code",
   "execution_count": 50,
   "metadata": {},
   "outputs": [
    {
     "name": "stdout",
     "output_type": "stream",
     "text": [
      "{'session_id': 'c0af4a64-4ae4-4572-89a4-0c22a0365c6e', 'answer': 'Here’s a chronological list of everything you’ve asked so far in this conversation:\\n\\n1. **“What is the average temperature in the Arabian Sea?”**  \\n2. **“What was my previous question?”**  \\n3. **“compare temperature of Indian ocean to the previous mentioned water body”**  \\n4. **“What was my previous question?”**  \\n5. **“Tell me what all i have asked till now?”** (your current request)', 'history': [{'role': 'user', 'content': 'What is the average temperature in the Arabian Sea?'}, {'role': 'assistant', 'content': 'The average temperature of the measurements taken in the Arabian Sea is **approximately\\u202f13.19\\u202f°C**.'}, {'role': 'user', 'content': 'What was my previous question?'}, {'role': 'assistant', 'content': 'Your previous question was: “What is the average temperature in the Arabian Sea?”'}, {'role': 'user', 'content': 'compare temperature of Indian ocean to the previous mentioned water body'}, {'role': 'assistant', 'content': '**Comparison of average temperatures**\\n\\n| Water body      | Average temperature (°C) |\\n|-----------------|--------------------------|\\n| Arabian Sea     | **13.19** |\\n| Indian Ocean    | **7.15** |\\n\\nThe Arabian Sea is, on average, about **6\\u202f°C warmer** than the Indian Ocean in the ARGO measurements.'}, {'role': 'user', 'content': 'What was my previous question?'}, {'role': 'assistant', 'content': 'Your previous question was: “What was my previous question?”'}, {'role': 'user', 'content': 'Tell me what all i have asked till now?'}, {'role': 'assistant', 'content': 'Here’s a chronological list of everything you’ve asked so far in this conversation:\\n\\n1. **“What is the average temperature in the Arabian Sea?”**  \\n2. **“What was my previous question?”**  \\n3. **“compare temperature of Indian ocean to the previous mentioned water body”**  \\n4. **“What was my previous question?”**  \\n5. **“Tell me what all i have asked till now?”** (your current request)'}]}\n"
     ]
    }
   ],
   "source": [
    "resp = requests.post(\n",
    "    \"http://localhost:8000/chat\",\n",
    "    json={\"session_id\": session_id, \"message\": \"Tell me what all i have asked till now?\"}\n",
    ")\n",
    "\n",
    "print(resp.json())"
   ]
  },
  {
   "cell_type": "code",
   "execution_count": 55,
   "metadata": {},
   "outputs": [
    {
     "name": "stdout",
     "output_type": "stream",
     "text": [
      "{'session_id': '414fe1fa-b8b8-4206-8cce-92cce4a9d753', 'answer': 'Here’s a concise list of the questions you’ve asked so far:\\n\\n1. **“What is the average temperature in the Arabian Sea?”**  \\n   - You wanted the mean water temperature (°C) for Argo measurements within the Arabian Sea.\\n\\n2. **“Compare temperature of Indian Ocean to the previous mentioned water body.”**  \\n   - You asked for a side‑by‑side comparison of the average temperature in the Indian Ocean versus the Arabian Sea.\\n\\n3. **“Tell me what all i have asked till now.”** (and the repeat of this request)  \\n   - You requested a summary of the questions you’ve posed up to this point.', 'history': [{'role': 'user', 'content': 'What is the average temperature in the Arabian Sea?'}, {'role': 'assistant', 'content': 'The average temperature of the measurements taken in the Arabian Sea is **approximately 13.19\\u202f°C**.'}, {'role': 'user', 'content': 'compare temperature of Indian ocean to the previous mentioned water body'}, {'role': 'assistant', 'content': '**Average Temperature Comparison**\\n\\n| Water Body      | Average Temperature (°C) |\\n|-----------------|--------------------------|\\n| Arabian Sea     | **13.19** |\\n| Indian Ocean    | **7.15** |\\n\\nThe Arabian Sea’s average temperature is roughly **6\\u202f°C warmer** than that of the Indian Ocean, based on the available Argo float measurements.'}, {'role': 'user', 'content': 'Tell me what all i have asked till now.'}, {'role': 'assistant', 'content': 'Here’s a quick recap of the questions you’ve asked so far:\\n\\n1. **“What is the average temperature in the Arabian Sea?”**  \\n   - You wanted the mean water temperature (°C) for Argo measurements taken within the Arabian Sea region.\\n\\n2. **“Compare temperature of Indian Ocean to the previous mentioned water body.”**  \\n   - You asked for a side‑by‑side comparison of the average temperature in the Indian Ocean versus the Arabian Sea you just queried.\\n\\n3. **“Tell me what all i have asked till now.”**  \\n   - You’re now requesting a summary of the questions you’ve posed up to this point.'}, {'role': 'user', 'content': 'What all i have asked till now?'}, {'role': 'assistant', 'content': 'Here’s a concise list of the questions you’ve asked so far:\\n\\n1. **“What is the average temperature in the Arabian Sea?”**  \\n   - You wanted the mean water temperature (°C) for Argo measurements within the Arabian Sea.\\n\\n2. **“Compare temperature of Indian Ocean to the previous mentioned water body.”**  \\n   - You asked for a side‑by‑side comparison of the average temperature in the Indian Ocean versus the Arabian Sea.\\n\\n3. **“Tell me what all i have asked till now.”** (and the repeat of this request)  \\n   - You requested a summary of the questions you’ve posed up to this point.'}]}\n"
     ]
    }
   ],
   "source": [
    "resp = requests.post(\n",
    "    \"http://localhost:8000/chat\",\n",
    "    json={\"session_id\": session_id, \"message\": \"What all i have asked till now?\"}\n",
    ")\n",
    "\n",
    "print(resp.json())"
   ]
  }
 ],
 "metadata": {
  "kernelspec": {
   "display_name": ".venv",
   "language": "python",
   "name": "python3"
  },
  "language_info": {
   "codemirror_mode": {
    "name": "ipython",
    "version": 3
   },
   "file_extension": ".py",
   "mimetype": "text/x-python",
   "name": "python",
   "nbconvert_exporter": "python",
   "pygments_lexer": "ipython3",
   "version": "3.12.6"
  }
 },
 "nbformat": 4,
 "nbformat_minor": 2
}
